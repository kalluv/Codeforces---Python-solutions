{
  "cells": [
    {
      "cell_type": "markdown",
      "metadata": {
        "id": "view-in-github",
        "colab_type": "text"
      },
      "source": [
        "<a href=\"https://colab.research.google.com/github/kalluv/Codeforces---Python-solutions/blob/main/Data_cleaning_a3.ipynb\" target=\"_parent\"><img src=\"https://colab.research.google.com/assets/colab-badge.svg\" alt=\"Open In Colab\"/></a>"
      ]
    },
    {
      "cell_type": "markdown",
      "source": [
        "# Reading files and storing them into dataframes"
      ],
      "metadata": {
        "id": "gvw3AymSxRzu"
      }
    },
    {
      "cell_type": "code",
      "execution_count": null,
      "metadata": {
        "id": "gFxP0ql8Dx5z"
      },
      "outputs": [],
      "source": [
        "import pandas as pd"
      ]
    },
    {
      "cell_type": "code",
      "execution_count": null,
      "metadata": {
        "id": "87ukFAIXVoVJ"
      },
      "outputs": [],
      "source": [
        "df1 = pd.read_csv('2022-A3-1.csv')"
      ]
    },
    {
      "cell_type": "markdown",
      "source": [
        "I read the the first file in (read_csv)"
      ],
      "metadata": {
        "id": "u_DVgZ0C7kwi"
      }
    },
    {
      "cell_type": "code",
      "source": [
        "df1.head()"
      ],
      "metadata": {
        "colab": {
          "base_uri": "https://localhost:8080/",
          "height": 206
        },
        "id": "QYdFfLxD70ZN",
        "outputId": "486a4e27-5da4-45cb-8a46-35b4903e243f"
      },
      "execution_count": null,
      "outputs": [
        {
          "output_type": "execute_result",
          "data": {
            "text/plain": [
              "   Area Code     Area  Item Code            Item  Y2000 Y2000F  Y2001 Y2001F  \\\n",
              "0          3  Albania        515          Apples  12000    NaN  15794    NaN   \n",
              "1          3  Albania        526        Apricots    670    NaN   1581    NaN   \n",
              "2          3  Albania        531        Cherries   5000    NaN   6800    NaN   \n",
              "3          3  Albania        530  Cherries, sour   8300    NaN  10370     Im   \n",
              "4          3  Albania        577           Dates    NaN      M    NaN      M   \n",
              "\n",
              "   Y2002 Y2002F  Y2003 Y2003F  Y2004 Y2004F  Y2005 Y2005F  \n",
              "0  15800    NaN  13300    NaN  15000    NaN  16000    NaN  \n",
              "1   2000      F   2200      F   1800      F   2000      F  \n",
              "2   6000    NaN   6300    NaN   6900    NaN   7200    NaN  \n",
              "3  13200      F  15400      F  12000      F  14000      F  \n",
              "4    NaN      M    NaN      M   5800    NaN   6590    NaN  "
            ],
            "text/html": [
              "\n",
              "  <div id=\"df-700a1293-ae68-4d0a-a092-8ef670f901ad\">\n",
              "    <div class=\"colab-df-container\">\n",
              "      <div>\n",
              "<style scoped>\n",
              "    .dataframe tbody tr th:only-of-type {\n",
              "        vertical-align: middle;\n",
              "    }\n",
              "\n",
              "    .dataframe tbody tr th {\n",
              "        vertical-align: top;\n",
              "    }\n",
              "\n",
              "    .dataframe thead th {\n",
              "        text-align: right;\n",
              "    }\n",
              "</style>\n",
              "<table border=\"1\" class=\"dataframe\">\n",
              "  <thead>\n",
              "    <tr style=\"text-align: right;\">\n",
              "      <th></th>\n",
              "      <th>Area Code</th>\n",
              "      <th>Area</th>\n",
              "      <th>Item Code</th>\n",
              "      <th>Item</th>\n",
              "      <th>Y2000</th>\n",
              "      <th>Y2000F</th>\n",
              "      <th>Y2001</th>\n",
              "      <th>Y2001F</th>\n",
              "      <th>Y2002</th>\n",
              "      <th>Y2002F</th>\n",
              "      <th>Y2003</th>\n",
              "      <th>Y2003F</th>\n",
              "      <th>Y2004</th>\n",
              "      <th>Y2004F</th>\n",
              "      <th>Y2005</th>\n",
              "      <th>Y2005F</th>\n",
              "    </tr>\n",
              "  </thead>\n",
              "  <tbody>\n",
              "    <tr>\n",
              "      <th>0</th>\n",
              "      <td>3</td>\n",
              "      <td>Albania</td>\n",
              "      <td>515</td>\n",
              "      <td>Apples</td>\n",
              "      <td>12000</td>\n",
              "      <td>NaN</td>\n",
              "      <td>15794</td>\n",
              "      <td>NaN</td>\n",
              "      <td>15800</td>\n",
              "      <td>NaN</td>\n",
              "      <td>13300</td>\n",
              "      <td>NaN</td>\n",
              "      <td>15000</td>\n",
              "      <td>NaN</td>\n",
              "      <td>16000</td>\n",
              "      <td>NaN</td>\n",
              "    </tr>\n",
              "    <tr>\n",
              "      <th>1</th>\n",
              "      <td>3</td>\n",
              "      <td>Albania</td>\n",
              "      <td>526</td>\n",
              "      <td>Apricots</td>\n",
              "      <td>670</td>\n",
              "      <td>NaN</td>\n",
              "      <td>1581</td>\n",
              "      <td>NaN</td>\n",
              "      <td>2000</td>\n",
              "      <td>F</td>\n",
              "      <td>2200</td>\n",
              "      <td>F</td>\n",
              "      <td>1800</td>\n",
              "      <td>F</td>\n",
              "      <td>2000</td>\n",
              "      <td>F</td>\n",
              "    </tr>\n",
              "    <tr>\n",
              "      <th>2</th>\n",
              "      <td>3</td>\n",
              "      <td>Albania</td>\n",
              "      <td>531</td>\n",
              "      <td>Cherries</td>\n",
              "      <td>5000</td>\n",
              "      <td>NaN</td>\n",
              "      <td>6800</td>\n",
              "      <td>NaN</td>\n",
              "      <td>6000</td>\n",
              "      <td>NaN</td>\n",
              "      <td>6300</td>\n",
              "      <td>NaN</td>\n",
              "      <td>6900</td>\n",
              "      <td>NaN</td>\n",
              "      <td>7200</td>\n",
              "      <td>NaN</td>\n",
              "    </tr>\n",
              "    <tr>\n",
              "      <th>3</th>\n",
              "      <td>3</td>\n",
              "      <td>Albania</td>\n",
              "      <td>530</td>\n",
              "      <td>Cherries, sour</td>\n",
              "      <td>8300</td>\n",
              "      <td>NaN</td>\n",
              "      <td>10370</td>\n",
              "      <td>Im</td>\n",
              "      <td>13200</td>\n",
              "      <td>F</td>\n",
              "      <td>15400</td>\n",
              "      <td>F</td>\n",
              "      <td>12000</td>\n",
              "      <td>F</td>\n",
              "      <td>14000</td>\n",
              "      <td>F</td>\n",
              "    </tr>\n",
              "    <tr>\n",
              "      <th>4</th>\n",
              "      <td>3</td>\n",
              "      <td>Albania</td>\n",
              "      <td>577</td>\n",
              "      <td>Dates</td>\n",
              "      <td>NaN</td>\n",
              "      <td>M</td>\n",
              "      <td>NaN</td>\n",
              "      <td>M</td>\n",
              "      <td>NaN</td>\n",
              "      <td>M</td>\n",
              "      <td>NaN</td>\n",
              "      <td>M</td>\n",
              "      <td>5800</td>\n",
              "      <td>NaN</td>\n",
              "      <td>6590</td>\n",
              "      <td>NaN</td>\n",
              "    </tr>\n",
              "  </tbody>\n",
              "</table>\n",
              "</div>\n",
              "      <button class=\"colab-df-convert\" onclick=\"convertToInteractive('df-700a1293-ae68-4d0a-a092-8ef670f901ad')\"\n",
              "              title=\"Convert this dataframe to an interactive table.\"\n",
              "              style=\"display:none;\">\n",
              "        \n",
              "  <svg xmlns=\"http://www.w3.org/2000/svg\" height=\"24px\"viewBox=\"0 0 24 24\"\n",
              "       width=\"24px\">\n",
              "    <path d=\"M0 0h24v24H0V0z\" fill=\"none\"/>\n",
              "    <path d=\"M18.56 5.44l.94 2.06.94-2.06 2.06-.94-2.06-.94-.94-2.06-.94 2.06-2.06.94zm-11 1L8.5 8.5l.94-2.06 2.06-.94-2.06-.94L8.5 2.5l-.94 2.06-2.06.94zm10 10l.94 2.06.94-2.06 2.06-.94-2.06-.94-.94-2.06-.94 2.06-2.06.94z\"/><path d=\"M17.41 7.96l-1.37-1.37c-.4-.4-.92-.59-1.43-.59-.52 0-1.04.2-1.43.59L10.3 9.45l-7.72 7.72c-.78.78-.78 2.05 0 2.83L4 21.41c.39.39.9.59 1.41.59.51 0 1.02-.2 1.41-.59l7.78-7.78 2.81-2.81c.8-.78.8-2.07 0-2.86zM5.41 20L4 18.59l7.72-7.72 1.47 1.35L5.41 20z\"/>\n",
              "  </svg>\n",
              "      </button>\n",
              "      \n",
              "  <style>\n",
              "    .colab-df-container {\n",
              "      display:flex;\n",
              "      flex-wrap:wrap;\n",
              "      gap: 12px;\n",
              "    }\n",
              "\n",
              "    .colab-df-convert {\n",
              "      background-color: #E8F0FE;\n",
              "      border: none;\n",
              "      border-radius: 50%;\n",
              "      cursor: pointer;\n",
              "      display: none;\n",
              "      fill: #1967D2;\n",
              "      height: 32px;\n",
              "      padding: 0 0 0 0;\n",
              "      width: 32px;\n",
              "    }\n",
              "\n",
              "    .colab-df-convert:hover {\n",
              "      background-color: #E2EBFA;\n",
              "      box-shadow: 0px 1px 2px rgba(60, 64, 67, 0.3), 0px 1px 3px 1px rgba(60, 64, 67, 0.15);\n",
              "      fill: #174EA6;\n",
              "    }\n",
              "\n",
              "    [theme=dark] .colab-df-convert {\n",
              "      background-color: #3B4455;\n",
              "      fill: #D2E3FC;\n",
              "    }\n",
              "\n",
              "    [theme=dark] .colab-df-convert:hover {\n",
              "      background-color: #434B5C;\n",
              "      box-shadow: 0px 1px 3px 1px rgba(0, 0, 0, 0.15);\n",
              "      filter: drop-shadow(0px 1px 2px rgba(0, 0, 0, 0.3));\n",
              "      fill: #FFFFFF;\n",
              "    }\n",
              "  </style>\n",
              "\n",
              "      <script>\n",
              "        const buttonEl =\n",
              "          document.querySelector('#df-700a1293-ae68-4d0a-a092-8ef670f901ad button.colab-df-convert');\n",
              "        buttonEl.style.display =\n",
              "          google.colab.kernel.accessAllowed ? 'block' : 'none';\n",
              "\n",
              "        async function convertToInteractive(key) {\n",
              "          const element = document.querySelector('#df-700a1293-ae68-4d0a-a092-8ef670f901ad');\n",
              "          const dataTable =\n",
              "            await google.colab.kernel.invokeFunction('convertToInteractive',\n",
              "                                                     [key], {});\n",
              "          if (!dataTable) return;\n",
              "\n",
              "          const docLinkHtml = 'Like what you see? Visit the ' +\n",
              "            '<a target=\"_blank\" href=https://colab.research.google.com/notebooks/data_table.ipynb>data table notebook</a>'\n",
              "            + ' to learn more about interactive tables.';\n",
              "          element.innerHTML = '';\n",
              "          dataTable['output_type'] = 'display_data';\n",
              "          await google.colab.output.renderOutput(dataTable, element);\n",
              "          const docLink = document.createElement('div');\n",
              "          docLink.innerHTML = docLinkHtml;\n",
              "          element.appendChild(docLink);\n",
              "        }\n",
              "      </script>\n",
              "    </div>\n",
              "  </div>\n",
              "  "
            ]
          },
          "metadata": {},
          "execution_count": 3
        }
      ]
    },
    {
      "cell_type": "markdown",
      "source": [
        "I checked the file looked okay using (head)."
      ],
      "metadata": {
        "id": "Kjcnm1Wn75rQ"
      }
    },
    {
      "cell_type": "code",
      "source": [
        "df1.info()"
      ],
      "metadata": {
        "colab": {
          "base_uri": "https://localhost:8080/"
        },
        "id": "ySDnJX1LzOAW",
        "outputId": "530ab7b1-855a-46e8-faec-d525cad300cc"
      },
      "execution_count": null,
      "outputs": [
        {
          "output_type": "stream",
          "name": "stdout",
          "text": [
            "<class 'pandas.core.frame.DataFrame'>\n",
            "RangeIndex: 1042 entries, 0 to 1041\n",
            "Data columns (total 16 columns):\n",
            " #   Column     Non-Null Count  Dtype \n",
            "---  ------     --------------  ----- \n",
            " 0   Area Code  1042 non-null   int64 \n",
            " 1   Area       1042 non-null   object\n",
            " 2   Item Code  1042 non-null   int64 \n",
            " 3   Item       1042 non-null   object\n",
            " 4   Y2000      605 non-null    object\n",
            " 5   Y2000F     265 non-null    object\n",
            " 6   Y2001      606 non-null    object\n",
            " 7   Y2001F     252 non-null    object\n",
            " 8   Y2002      612 non-null    object\n",
            " 9   Y2002F     260 non-null    object\n",
            " 10  Y2003      629 non-null    object\n",
            " 11  Y2003F     223 non-null    object\n",
            " 12  Y2004      638 non-null    object\n",
            " 13  Y2004F     228 non-null    object\n",
            " 14  Y2005      641 non-null    object\n",
            " 15  Y2005F     214 non-null    object\n",
            "dtypes: int64(2), object(14)\n",
            "memory usage: 130.4+ KB\n"
          ]
        }
      ]
    },
    {
      "cell_type": "markdown",
      "source": [
        "I wanted to know what the data types were for each columns, so I used (info)."
      ],
      "metadata": {
        "id": "nyOx2HYF8B1K"
      }
    },
    {
      "cell_type": "code",
      "source": [
        "df2 = pd.read_excel('2022-A3-2.xlsx')"
      ],
      "metadata": {
        "id": "MlDDEDixkF1I"
      },
      "execution_count": null,
      "outputs": []
    },
    {
      "cell_type": "markdown",
      "source": [
        "I read the second file using (read_excel)."
      ],
      "metadata": {
        "id": "X2mki61S8RL6"
      }
    },
    {
      "cell_type": "code",
      "source": [
        "df2.head()"
      ],
      "metadata": {
        "colab": {
          "base_uri": "https://localhost:8080/",
          "height": 334
        },
        "id": "egVZpn_M8YEH",
        "outputId": "57a69355-70c8-416a-e587-89f22643969f"
      },
      "execution_count": null,
      "outputs": [
        {
          "output_type": "execute_result",
          "data": {
            "text/plain": [
              "   Area Code     Area  Item Code            Item    Y2005 Y2005F    Y2006  \\\n",
              "0          3  Albania        515          Apples  16000.0    NaN  27566.0   \n",
              "1          3  Albania        526        Apricots   2000.0      F   1900.0   \n",
              "2          3  Albania        531        Cherries   7200.0    NaN   7680.0   \n",
              "3          3  Albania        530  Cherries, sour  14000.0      F  13600.0   \n",
              "4          3  Albania        577           Dates   6590.0    NaN   7900.0   \n",
              "\n",
              "  Y2006F    Y2007 Y2007F  ...    Y2011 Y2011F    Y2012 Y2012F    Y2013 Y2013F  \\\n",
              "0    NaN  36000.0    NaN  ...  64000.0    NaN  71300.0    NaN  75730.0    NaN   \n",
              "1    NaN   2000.0    NaN  ...   3900.0    NaN   4430.0    NaN   4400.0    NaN   \n",
              "2    NaN   7500.0    NaN  ...  14400.0    NaN  16970.0    NaN  18920.0    NaN   \n",
              "3      F  13000.0      F  ...  17000.0      *  17000.0      F  17000.0      F   \n",
              "4    NaN   8000.0    NaN  ...  11586.0    NaN  12120.0    NaN  12250.0    NaN   \n",
              "\n",
              "     Y2014 Y2014F    Y2015 Y2015F  \n",
              "0  82060.0    NaN  91736.0    NaN  \n",
              "1   4140.0    NaN   5045.0    NaN  \n",
              "2  17730.0    NaN  20147.0    NaN  \n",
              "3  17000.0      F  17495.0     Im  \n",
              "4  12180.0    NaN  13599.0    NaN  \n",
              "\n",
              "[5 rows x 26 columns]"
            ],
            "text/html": [
              "\n",
              "  <div id=\"df-1df56f7e-0801-41c6-8c3a-275ffc78068a\">\n",
              "    <div class=\"colab-df-container\">\n",
              "      <div>\n",
              "<style scoped>\n",
              "    .dataframe tbody tr th:only-of-type {\n",
              "        vertical-align: middle;\n",
              "    }\n",
              "\n",
              "    .dataframe tbody tr th {\n",
              "        vertical-align: top;\n",
              "    }\n",
              "\n",
              "    .dataframe thead th {\n",
              "        text-align: right;\n",
              "    }\n",
              "</style>\n",
              "<table border=\"1\" class=\"dataframe\">\n",
              "  <thead>\n",
              "    <tr style=\"text-align: right;\">\n",
              "      <th></th>\n",
              "      <th>Area Code</th>\n",
              "      <th>Area</th>\n",
              "      <th>Item Code</th>\n",
              "      <th>Item</th>\n",
              "      <th>Y2005</th>\n",
              "      <th>Y2005F</th>\n",
              "      <th>Y2006</th>\n",
              "      <th>Y2006F</th>\n",
              "      <th>Y2007</th>\n",
              "      <th>Y2007F</th>\n",
              "      <th>...</th>\n",
              "      <th>Y2011</th>\n",
              "      <th>Y2011F</th>\n",
              "      <th>Y2012</th>\n",
              "      <th>Y2012F</th>\n",
              "      <th>Y2013</th>\n",
              "      <th>Y2013F</th>\n",
              "      <th>Y2014</th>\n",
              "      <th>Y2014F</th>\n",
              "      <th>Y2015</th>\n",
              "      <th>Y2015F</th>\n",
              "    </tr>\n",
              "  </thead>\n",
              "  <tbody>\n",
              "    <tr>\n",
              "      <th>0</th>\n",
              "      <td>3</td>\n",
              "      <td>Albania</td>\n",
              "      <td>515</td>\n",
              "      <td>Apples</td>\n",
              "      <td>16000.0</td>\n",
              "      <td>NaN</td>\n",
              "      <td>27566.0</td>\n",
              "      <td>NaN</td>\n",
              "      <td>36000.0</td>\n",
              "      <td>NaN</td>\n",
              "      <td>...</td>\n",
              "      <td>64000.0</td>\n",
              "      <td>NaN</td>\n",
              "      <td>71300.0</td>\n",
              "      <td>NaN</td>\n",
              "      <td>75730.0</td>\n",
              "      <td>NaN</td>\n",
              "      <td>82060.0</td>\n",
              "      <td>NaN</td>\n",
              "      <td>91736.0</td>\n",
              "      <td>NaN</td>\n",
              "    </tr>\n",
              "    <tr>\n",
              "      <th>1</th>\n",
              "      <td>3</td>\n",
              "      <td>Albania</td>\n",
              "      <td>526</td>\n",
              "      <td>Apricots</td>\n",
              "      <td>2000.0</td>\n",
              "      <td>F</td>\n",
              "      <td>1900.0</td>\n",
              "      <td>NaN</td>\n",
              "      <td>2000.0</td>\n",
              "      <td>NaN</td>\n",
              "      <td>...</td>\n",
              "      <td>3900.0</td>\n",
              "      <td>NaN</td>\n",
              "      <td>4430.0</td>\n",
              "      <td>NaN</td>\n",
              "      <td>4400.0</td>\n",
              "      <td>NaN</td>\n",
              "      <td>4140.0</td>\n",
              "      <td>NaN</td>\n",
              "      <td>5045.0</td>\n",
              "      <td>NaN</td>\n",
              "    </tr>\n",
              "    <tr>\n",
              "      <th>2</th>\n",
              "      <td>3</td>\n",
              "      <td>Albania</td>\n",
              "      <td>531</td>\n",
              "      <td>Cherries</td>\n",
              "      <td>7200.0</td>\n",
              "      <td>NaN</td>\n",
              "      <td>7680.0</td>\n",
              "      <td>NaN</td>\n",
              "      <td>7500.0</td>\n",
              "      <td>NaN</td>\n",
              "      <td>...</td>\n",
              "      <td>14400.0</td>\n",
              "      <td>NaN</td>\n",
              "      <td>16970.0</td>\n",
              "      <td>NaN</td>\n",
              "      <td>18920.0</td>\n",
              "      <td>NaN</td>\n",
              "      <td>17730.0</td>\n",
              "      <td>NaN</td>\n",
              "      <td>20147.0</td>\n",
              "      <td>NaN</td>\n",
              "    </tr>\n",
              "    <tr>\n",
              "      <th>3</th>\n",
              "      <td>3</td>\n",
              "      <td>Albania</td>\n",
              "      <td>530</td>\n",
              "      <td>Cherries, sour</td>\n",
              "      <td>14000.0</td>\n",
              "      <td>F</td>\n",
              "      <td>13600.0</td>\n",
              "      <td>F</td>\n",
              "      <td>13000.0</td>\n",
              "      <td>F</td>\n",
              "      <td>...</td>\n",
              "      <td>17000.0</td>\n",
              "      <td>*</td>\n",
              "      <td>17000.0</td>\n",
              "      <td>F</td>\n",
              "      <td>17000.0</td>\n",
              "      <td>F</td>\n",
              "      <td>17000.0</td>\n",
              "      <td>F</td>\n",
              "      <td>17495.0</td>\n",
              "      <td>Im</td>\n",
              "    </tr>\n",
              "    <tr>\n",
              "      <th>4</th>\n",
              "      <td>3</td>\n",
              "      <td>Albania</td>\n",
              "      <td>577</td>\n",
              "      <td>Dates</td>\n",
              "      <td>6590.0</td>\n",
              "      <td>NaN</td>\n",
              "      <td>7900.0</td>\n",
              "      <td>NaN</td>\n",
              "      <td>8000.0</td>\n",
              "      <td>NaN</td>\n",
              "      <td>...</td>\n",
              "      <td>11586.0</td>\n",
              "      <td>NaN</td>\n",
              "      <td>12120.0</td>\n",
              "      <td>NaN</td>\n",
              "      <td>12250.0</td>\n",
              "      <td>NaN</td>\n",
              "      <td>12180.0</td>\n",
              "      <td>NaN</td>\n",
              "      <td>13599.0</td>\n",
              "      <td>NaN</td>\n",
              "    </tr>\n",
              "  </tbody>\n",
              "</table>\n",
              "<p>5 rows × 26 columns</p>\n",
              "</div>\n",
              "      <button class=\"colab-df-convert\" onclick=\"convertToInteractive('df-1df56f7e-0801-41c6-8c3a-275ffc78068a')\"\n",
              "              title=\"Convert this dataframe to an interactive table.\"\n",
              "              style=\"display:none;\">\n",
              "        \n",
              "  <svg xmlns=\"http://www.w3.org/2000/svg\" height=\"24px\"viewBox=\"0 0 24 24\"\n",
              "       width=\"24px\">\n",
              "    <path d=\"M0 0h24v24H0V0z\" fill=\"none\"/>\n",
              "    <path d=\"M18.56 5.44l.94 2.06.94-2.06 2.06-.94-2.06-.94-.94-2.06-.94 2.06-2.06.94zm-11 1L8.5 8.5l.94-2.06 2.06-.94-2.06-.94L8.5 2.5l-.94 2.06-2.06.94zm10 10l.94 2.06.94-2.06 2.06-.94-2.06-.94-.94-2.06-.94 2.06-2.06.94z\"/><path d=\"M17.41 7.96l-1.37-1.37c-.4-.4-.92-.59-1.43-.59-.52 0-1.04.2-1.43.59L10.3 9.45l-7.72 7.72c-.78.78-.78 2.05 0 2.83L4 21.41c.39.39.9.59 1.41.59.51 0 1.02-.2 1.41-.59l7.78-7.78 2.81-2.81c.8-.78.8-2.07 0-2.86zM5.41 20L4 18.59l7.72-7.72 1.47 1.35L5.41 20z\"/>\n",
              "  </svg>\n",
              "      </button>\n",
              "      \n",
              "  <style>\n",
              "    .colab-df-container {\n",
              "      display:flex;\n",
              "      flex-wrap:wrap;\n",
              "      gap: 12px;\n",
              "    }\n",
              "\n",
              "    .colab-df-convert {\n",
              "      background-color: #E8F0FE;\n",
              "      border: none;\n",
              "      border-radius: 50%;\n",
              "      cursor: pointer;\n",
              "      display: none;\n",
              "      fill: #1967D2;\n",
              "      height: 32px;\n",
              "      padding: 0 0 0 0;\n",
              "      width: 32px;\n",
              "    }\n",
              "\n",
              "    .colab-df-convert:hover {\n",
              "      background-color: #E2EBFA;\n",
              "      box-shadow: 0px 1px 2px rgba(60, 64, 67, 0.3), 0px 1px 3px 1px rgba(60, 64, 67, 0.15);\n",
              "      fill: #174EA6;\n",
              "    }\n",
              "\n",
              "    [theme=dark] .colab-df-convert {\n",
              "      background-color: #3B4455;\n",
              "      fill: #D2E3FC;\n",
              "    }\n",
              "\n",
              "    [theme=dark] .colab-df-convert:hover {\n",
              "      background-color: #434B5C;\n",
              "      box-shadow: 0px 1px 3px 1px rgba(0, 0, 0, 0.15);\n",
              "      filter: drop-shadow(0px 1px 2px rgba(0, 0, 0, 0.3));\n",
              "      fill: #FFFFFF;\n",
              "    }\n",
              "  </style>\n",
              "\n",
              "      <script>\n",
              "        const buttonEl =\n",
              "          document.querySelector('#df-1df56f7e-0801-41c6-8c3a-275ffc78068a button.colab-df-convert');\n",
              "        buttonEl.style.display =\n",
              "          google.colab.kernel.accessAllowed ? 'block' : 'none';\n",
              "\n",
              "        async function convertToInteractive(key) {\n",
              "          const element = document.querySelector('#df-1df56f7e-0801-41c6-8c3a-275ffc78068a');\n",
              "          const dataTable =\n",
              "            await google.colab.kernel.invokeFunction('convertToInteractive',\n",
              "                                                     [key], {});\n",
              "          if (!dataTable) return;\n",
              "\n",
              "          const docLinkHtml = 'Like what you see? Visit the ' +\n",
              "            '<a target=\"_blank\" href=https://colab.research.google.com/notebooks/data_table.ipynb>data table notebook</a>'\n",
              "            + ' to learn more about interactive tables.';\n",
              "          element.innerHTML = '';\n",
              "          dataTable['output_type'] = 'display_data';\n",
              "          await google.colab.output.renderOutput(dataTable, element);\n",
              "          const docLink = document.createElement('div');\n",
              "          docLink.innerHTML = docLinkHtml;\n",
              "          element.appendChild(docLink);\n",
              "        }\n",
              "      </script>\n",
              "    </div>\n",
              "  </div>\n",
              "  "
            ]
          },
          "metadata": {},
          "execution_count": 6
        }
      ]
    },
    {
      "cell_type": "code",
      "source": [
        "df2.info()"
      ],
      "metadata": {
        "colab": {
          "base_uri": "https://localhost:8080/"
        },
        "id": "4OnJMiorzROc",
        "outputId": "2549adf7-953b-43c0-930a-90b774bc97cd"
      },
      "execution_count": null,
      "outputs": [
        {
          "output_type": "stream",
          "name": "stdout",
          "text": [
            "<class 'pandas.core.frame.DataFrame'>\n",
            "RangeIndex: 1042 entries, 0 to 1041\n",
            "Data columns (total 26 columns):\n",
            " #   Column     Non-Null Count  Dtype  \n",
            "---  ------     --------------  -----  \n",
            " 0   Area Code  1042 non-null   int64  \n",
            " 1   Area       1042 non-null   object \n",
            " 2   Item Code  1042 non-null   int64  \n",
            " 3   Item       1042 non-null   object \n",
            " 4   Y2005      693 non-null    float64\n",
            " 5   Y2005F     214 non-null    object \n",
            " 6   Y2006      709 non-null    float64\n",
            " 7   Y2006F     225 non-null    object \n",
            " 8   Y2007      710 non-null    float64\n",
            " 9   Y2007F     224 non-null    object \n",
            " 10  Y2008      710 non-null    float64\n",
            " 11  Y2008F     225 non-null    object \n",
            " 12  Y2009      710 non-null    float64\n",
            " 13  Y2009F     218 non-null    object \n",
            " 14  Y2010      710 non-null    float64\n",
            " 15  Y2010F     206 non-null    object \n",
            " 16  Y2011      710 non-null    float64\n",
            " 17  Y2011F     209 non-null    object \n",
            " 18  Y2012      710 non-null    float64\n",
            " 19  Y2012F     204 non-null    object \n",
            " 20  Y2013      710 non-null    float64\n",
            " 21  Y2013F     205 non-null    object \n",
            " 22  Y2014      710 non-null    float64\n",
            " 23  Y2014F     204 non-null    object \n",
            " 24  Y2015      710 non-null    float64\n",
            " 25  Y2015F     205 non-null    object \n",
            "dtypes: float64(11), int64(2), object(13)\n",
            "memory usage: 211.8+ KB\n"
          ]
        }
      ]
    },
    {
      "cell_type": "markdown",
      "source": [
        "I repeated the same process as I did with the first file and used (head) and (info). "
      ],
      "metadata": {
        "id": "1bQQQB8U8hBe"
      }
    },
    {
      "cell_type": "code",
      "source": [
        "df1.pop('Y2005')\n",
        "df1.pop('Y2005F')"
      ],
      "metadata": {
        "colab": {
          "base_uri": "https://localhost:8080/"
        },
        "id": "SVH3qODPEdHi",
        "outputId": "f6d78080-b6cf-44e1-bf95-87de63e311ca"
      },
      "execution_count": null,
      "outputs": [
        {
          "output_type": "execute_result",
          "data": {
            "text/plain": [
              "0       NaN\n",
              "1         F\n",
              "2       NaN\n",
              "3         F\n",
              "4       NaN\n",
              "       ... \n",
              "1037    NaN\n",
              "1038    NaN\n",
              "1039    NaN\n",
              "1040    NaN\n",
              "1041      A\n",
              "Name: Y2005F, Length: 1042, dtype: object"
            ]
          },
          "metadata": {},
          "execution_count": 8
        }
      ]
    },
    {
      "cell_type": "markdown",
      "source": [
        "Before merging the two files, I decided that it would be best to drop the columns 'Y2005' and 'Y2005F' in df1 and keep them in df2. I chose to drop the columns in df1 rather than df2, since the column 'Y2005' in df2, has more values then the same column in df1."
      ],
      "metadata": {
        "id": "pLFA1NJM8vzo"
      }
    },
    {
      "cell_type": "code",
      "source": [
        "df2 = df2.drop(df2.columns[[0, 1, 2, 3]],axis = 1)"
      ],
      "metadata": {
        "id": "__Yp2XYSTGn-"
      },
      "execution_count": null,
      "outputs": []
    },
    {
      "cell_type": "markdown",
      "source": [
        "I also dropped the first 4 columns in df2, since they are already there in df1."
      ],
      "metadata": {
        "id": "cA9wp5eg9eH0"
      }
    },
    {
      "cell_type": "code",
      "source": [
        "df2.info()"
      ],
      "metadata": {
        "colab": {
          "base_uri": "https://localhost:8080/"
        },
        "id": "6SxkNAAuTNEQ",
        "outputId": "b5aa2e59-d0c5-442d-b4b8-8f47ef3fdea2"
      },
      "execution_count": null,
      "outputs": [
        {
          "output_type": "stream",
          "name": "stdout",
          "text": [
            "<class 'pandas.core.frame.DataFrame'>\n",
            "RangeIndex: 1042 entries, 0 to 1041\n",
            "Data columns (total 22 columns):\n",
            " #   Column  Non-Null Count  Dtype  \n",
            "---  ------  --------------  -----  \n",
            " 0   Y2005   693 non-null    float64\n",
            " 1   Y2005F  214 non-null    object \n",
            " 2   Y2006   709 non-null    float64\n",
            " 3   Y2006F  225 non-null    object \n",
            " 4   Y2007   710 non-null    float64\n",
            " 5   Y2007F  224 non-null    object \n",
            " 6   Y2008   710 non-null    float64\n",
            " 7   Y2008F  225 non-null    object \n",
            " 8   Y2009   710 non-null    float64\n",
            " 9   Y2009F  218 non-null    object \n",
            " 10  Y2010   710 non-null    float64\n",
            " 11  Y2010F  206 non-null    object \n",
            " 12  Y2011   710 non-null    float64\n",
            " 13  Y2011F  209 non-null    object \n",
            " 14  Y2012   710 non-null    float64\n",
            " 15  Y2012F  204 non-null    object \n",
            " 16  Y2013   710 non-null    float64\n",
            " 17  Y2013F  205 non-null    object \n",
            " 18  Y2014   710 non-null    float64\n",
            " 19  Y2014F  204 non-null    object \n",
            " 20  Y2015   710 non-null    float64\n",
            " 21  Y2015F  205 non-null    object \n",
            "dtypes: float64(11), object(11)\n",
            "memory usage: 179.2+ KB\n"
          ]
        }
      ]
    },
    {
      "cell_type": "markdown",
      "source": [
        "This is df2 after the first 4 columns have been dropped."
      ],
      "metadata": {
        "id": "f1zzh2qe9p9i"
      }
    },
    {
      "cell_type": "markdown",
      "source": [
        "# Merging dataframes"
      ],
      "metadata": {
        "id": "X_Ud8zx3xz2N"
      }
    },
    {
      "cell_type": "code",
      "source": [
        "df3 = pd.concat([df1, df2], axis=1)"
      ],
      "metadata": {
        "id": "iPeQuvSkKbNN"
      },
      "execution_count": null,
      "outputs": []
    },
    {
      "cell_type": "markdown",
      "source": [
        "I merged df1 and df2 and stored them in a new dataframe called 'df3'."
      ],
      "metadata": {
        "id": "I22WVzux94n6"
      }
    },
    {
      "cell_type": "code",
      "source": [
        "df3.info()"
      ],
      "metadata": {
        "colab": {
          "base_uri": "https://localhost:8080/"
        },
        "id": "VoUjg-BIK8JU",
        "outputId": "91d44763-17dd-465a-8ecb-5bbcec597695"
      },
      "execution_count": null,
      "outputs": [
        {
          "output_type": "stream",
          "name": "stdout",
          "text": [
            "<class 'pandas.core.frame.DataFrame'>\n",
            "RangeIndex: 1042 entries, 0 to 1041\n",
            "Data columns (total 36 columns):\n",
            " #   Column     Non-Null Count  Dtype  \n",
            "---  ------     --------------  -----  \n",
            " 0   Area Code  1042 non-null   int64  \n",
            " 1   Area       1042 non-null   object \n",
            " 2   Item Code  1042 non-null   int64  \n",
            " 3   Item       1042 non-null   object \n",
            " 4   Y2000      605 non-null    object \n",
            " 5   Y2000F     265 non-null    object \n",
            " 6   Y2001      606 non-null    object \n",
            " 7   Y2001F     252 non-null    object \n",
            " 8   Y2002      612 non-null    object \n",
            " 9   Y2002F     260 non-null    object \n",
            " 10  Y2003      629 non-null    object \n",
            " 11  Y2003F     223 non-null    object \n",
            " 12  Y2004      638 non-null    object \n",
            " 13  Y2004F     228 non-null    object \n",
            " 14  Y2005      693 non-null    float64\n",
            " 15  Y2005F     214 non-null    object \n",
            " 16  Y2006      709 non-null    float64\n",
            " 17  Y2006F     225 non-null    object \n",
            " 18  Y2007      710 non-null    float64\n",
            " 19  Y2007F     224 non-null    object \n",
            " 20  Y2008      710 non-null    float64\n",
            " 21  Y2008F     225 non-null    object \n",
            " 22  Y2009      710 non-null    float64\n",
            " 23  Y2009F     218 non-null    object \n",
            " 24  Y2010      710 non-null    float64\n",
            " 25  Y2010F     206 non-null    object \n",
            " 26  Y2011      710 non-null    float64\n",
            " 27  Y2011F     209 non-null    object \n",
            " 28  Y2012      710 non-null    float64\n",
            " 29  Y2012F     204 non-null    object \n",
            " 30  Y2013      710 non-null    float64\n",
            " 31  Y2013F     205 non-null    object \n",
            " 32  Y2014      710 non-null    float64\n",
            " 33  Y2014F     204 non-null    object \n",
            " 34  Y2015      710 non-null    float64\n",
            " 35  Y2015F     205 non-null    object \n",
            "dtypes: float64(11), int64(2), object(23)\n",
            "memory usage: 293.2+ KB\n"
          ]
        }
      ]
    },
    {
      "cell_type": "markdown",
      "source": [
        "This is the new dataframe df3, which was made from merging df1 and df2."
      ],
      "metadata": {
        "id": "9TrOyK8R-BI8"
      }
    },
    {
      "cell_type": "code",
      "source": [
        "df4 = pd.read_json('2022-A3-3.json')"
      ],
      "metadata": {
        "id": "zygQvf4Lx6pq"
      },
      "execution_count": null,
      "outputs": []
    },
    {
      "cell_type": "markdown",
      "source": [
        "I read the third and last file using (read_json)."
      ],
      "metadata": {
        "id": "UCnCdD6B-PQa"
      }
    },
    {
      "cell_type": "code",
      "source": [
        "df4.head()"
      ],
      "metadata": {
        "colab": {
          "base_uri": "https://localhost:8080/",
          "height": 206
        },
        "id": "HAiV7MSq-fh7",
        "outputId": "c062100e-7c68-4a4d-f992-beb70e6626ff"
      },
      "execution_count": null,
      "outputs": [
        {
          "output_type": "execute_result",
          "data": {
            "text/plain": [
              "   Item Code   Fruit  Area Code      Area   Y2016 Y2016F   Y2017 Y2017F  \\\n",
              "0        515  Apples          3   Albania  101532          96338          \n",
              "1        515  Apples         11   Austria  101667         185244          \n",
              "2        515  Apples         27  Bulgaria   44755          44927          \n",
              "3        515  Apples         54   Denmark   36470          20496          \n",
              "4        515  Apples         57   Belarus  508816         317078          \n",
              "\n",
              "    Y2018 Y2018F   Y2019 Y2019F   Y2020 Y2020F  \n",
              "0  108375         105933         102167         \n",
              "1  387950         239210         258220         \n",
              "2   50300          43620          37870         \n",
              "3   32650          25210          40020         \n",
              "4  700198         336697         532655         "
            ],
            "text/html": [
              "\n",
              "  <div id=\"df-1db05c9d-ab59-473e-a038-7451eba08131\">\n",
              "    <div class=\"colab-df-container\">\n",
              "      <div>\n",
              "<style scoped>\n",
              "    .dataframe tbody tr th:only-of-type {\n",
              "        vertical-align: middle;\n",
              "    }\n",
              "\n",
              "    .dataframe tbody tr th {\n",
              "        vertical-align: top;\n",
              "    }\n",
              "\n",
              "    .dataframe thead th {\n",
              "        text-align: right;\n",
              "    }\n",
              "</style>\n",
              "<table border=\"1\" class=\"dataframe\">\n",
              "  <thead>\n",
              "    <tr style=\"text-align: right;\">\n",
              "      <th></th>\n",
              "      <th>Item Code</th>\n",
              "      <th>Fruit</th>\n",
              "      <th>Area Code</th>\n",
              "      <th>Area</th>\n",
              "      <th>Y2016</th>\n",
              "      <th>Y2016F</th>\n",
              "      <th>Y2017</th>\n",
              "      <th>Y2017F</th>\n",
              "      <th>Y2018</th>\n",
              "      <th>Y2018F</th>\n",
              "      <th>Y2019</th>\n",
              "      <th>Y2019F</th>\n",
              "      <th>Y2020</th>\n",
              "      <th>Y2020F</th>\n",
              "    </tr>\n",
              "  </thead>\n",
              "  <tbody>\n",
              "    <tr>\n",
              "      <th>0</th>\n",
              "      <td>515</td>\n",
              "      <td>Apples</td>\n",
              "      <td>3</td>\n",
              "      <td>Albania</td>\n",
              "      <td>101532</td>\n",
              "      <td></td>\n",
              "      <td>96338</td>\n",
              "      <td></td>\n",
              "      <td>108375</td>\n",
              "      <td></td>\n",
              "      <td>105933</td>\n",
              "      <td></td>\n",
              "      <td>102167</td>\n",
              "      <td></td>\n",
              "    </tr>\n",
              "    <tr>\n",
              "      <th>1</th>\n",
              "      <td>515</td>\n",
              "      <td>Apples</td>\n",
              "      <td>11</td>\n",
              "      <td>Austria</td>\n",
              "      <td>101667</td>\n",
              "      <td></td>\n",
              "      <td>185244</td>\n",
              "      <td></td>\n",
              "      <td>387950</td>\n",
              "      <td></td>\n",
              "      <td>239210</td>\n",
              "      <td></td>\n",
              "      <td>258220</td>\n",
              "      <td></td>\n",
              "    </tr>\n",
              "    <tr>\n",
              "      <th>2</th>\n",
              "      <td>515</td>\n",
              "      <td>Apples</td>\n",
              "      <td>27</td>\n",
              "      <td>Bulgaria</td>\n",
              "      <td>44755</td>\n",
              "      <td></td>\n",
              "      <td>44927</td>\n",
              "      <td></td>\n",
              "      <td>50300</td>\n",
              "      <td></td>\n",
              "      <td>43620</td>\n",
              "      <td></td>\n",
              "      <td>37870</td>\n",
              "      <td></td>\n",
              "    </tr>\n",
              "    <tr>\n",
              "      <th>3</th>\n",
              "      <td>515</td>\n",
              "      <td>Apples</td>\n",
              "      <td>54</td>\n",
              "      <td>Denmark</td>\n",
              "      <td>36470</td>\n",
              "      <td></td>\n",
              "      <td>20496</td>\n",
              "      <td></td>\n",
              "      <td>32650</td>\n",
              "      <td></td>\n",
              "      <td>25210</td>\n",
              "      <td></td>\n",
              "      <td>40020</td>\n",
              "      <td></td>\n",
              "    </tr>\n",
              "    <tr>\n",
              "      <th>4</th>\n",
              "      <td>515</td>\n",
              "      <td>Apples</td>\n",
              "      <td>57</td>\n",
              "      <td>Belarus</td>\n",
              "      <td>508816</td>\n",
              "      <td></td>\n",
              "      <td>317078</td>\n",
              "      <td></td>\n",
              "      <td>700198</td>\n",
              "      <td></td>\n",
              "      <td>336697</td>\n",
              "      <td></td>\n",
              "      <td>532655</td>\n",
              "      <td></td>\n",
              "    </tr>\n",
              "  </tbody>\n",
              "</table>\n",
              "</div>\n",
              "      <button class=\"colab-df-convert\" onclick=\"convertToInteractive('df-1db05c9d-ab59-473e-a038-7451eba08131')\"\n",
              "              title=\"Convert this dataframe to an interactive table.\"\n",
              "              style=\"display:none;\">\n",
              "        \n",
              "  <svg xmlns=\"http://www.w3.org/2000/svg\" height=\"24px\"viewBox=\"0 0 24 24\"\n",
              "       width=\"24px\">\n",
              "    <path d=\"M0 0h24v24H0V0z\" fill=\"none\"/>\n",
              "    <path d=\"M18.56 5.44l.94 2.06.94-2.06 2.06-.94-2.06-.94-.94-2.06-.94 2.06-2.06.94zm-11 1L8.5 8.5l.94-2.06 2.06-.94-2.06-.94L8.5 2.5l-.94 2.06-2.06.94zm10 10l.94 2.06.94-2.06 2.06-.94-2.06-.94-.94-2.06-.94 2.06-2.06.94z\"/><path d=\"M17.41 7.96l-1.37-1.37c-.4-.4-.92-.59-1.43-.59-.52 0-1.04.2-1.43.59L10.3 9.45l-7.72 7.72c-.78.78-.78 2.05 0 2.83L4 21.41c.39.39.9.59 1.41.59.51 0 1.02-.2 1.41-.59l7.78-7.78 2.81-2.81c.8-.78.8-2.07 0-2.86zM5.41 20L4 18.59l7.72-7.72 1.47 1.35L5.41 20z\"/>\n",
              "  </svg>\n",
              "      </button>\n",
              "      \n",
              "  <style>\n",
              "    .colab-df-container {\n",
              "      display:flex;\n",
              "      flex-wrap:wrap;\n",
              "      gap: 12px;\n",
              "    }\n",
              "\n",
              "    .colab-df-convert {\n",
              "      background-color: #E8F0FE;\n",
              "      border: none;\n",
              "      border-radius: 50%;\n",
              "      cursor: pointer;\n",
              "      display: none;\n",
              "      fill: #1967D2;\n",
              "      height: 32px;\n",
              "      padding: 0 0 0 0;\n",
              "      width: 32px;\n",
              "    }\n",
              "\n",
              "    .colab-df-convert:hover {\n",
              "      background-color: #E2EBFA;\n",
              "      box-shadow: 0px 1px 2px rgba(60, 64, 67, 0.3), 0px 1px 3px 1px rgba(60, 64, 67, 0.15);\n",
              "      fill: #174EA6;\n",
              "    }\n",
              "\n",
              "    [theme=dark] .colab-df-convert {\n",
              "      background-color: #3B4455;\n",
              "      fill: #D2E3FC;\n",
              "    }\n",
              "\n",
              "    [theme=dark] .colab-df-convert:hover {\n",
              "      background-color: #434B5C;\n",
              "      box-shadow: 0px 1px 3px 1px rgba(0, 0, 0, 0.15);\n",
              "      filter: drop-shadow(0px 1px 2px rgba(0, 0, 0, 0.3));\n",
              "      fill: #FFFFFF;\n",
              "    }\n",
              "  </style>\n",
              "\n",
              "      <script>\n",
              "        const buttonEl =\n",
              "          document.querySelector('#df-1db05c9d-ab59-473e-a038-7451eba08131 button.colab-df-convert');\n",
              "        buttonEl.style.display =\n",
              "          google.colab.kernel.accessAllowed ? 'block' : 'none';\n",
              "\n",
              "        async function convertToInteractive(key) {\n",
              "          const element = document.querySelector('#df-1db05c9d-ab59-473e-a038-7451eba08131');\n",
              "          const dataTable =\n",
              "            await google.colab.kernel.invokeFunction('convertToInteractive',\n",
              "                                                     [key], {});\n",
              "          if (!dataTable) return;\n",
              "\n",
              "          const docLinkHtml = 'Like what you see? Visit the ' +\n",
              "            '<a target=\"_blank\" href=https://colab.research.google.com/notebooks/data_table.ipynb>data table notebook</a>'\n",
              "            + ' to learn more about interactive tables.';\n",
              "          element.innerHTML = '';\n",
              "          dataTable['output_type'] = 'display_data';\n",
              "          await google.colab.output.renderOutput(dataTable, element);\n",
              "          const docLink = document.createElement('div');\n",
              "          docLink.innerHTML = docLinkHtml;\n",
              "          element.appendChild(docLink);\n",
              "        }\n",
              "      </script>\n",
              "    </div>\n",
              "  </div>\n",
              "  "
            ]
          },
          "metadata": {},
          "execution_count": 14
        }
      ]
    },
    {
      "cell_type": "code",
      "source": [
        "df4.info()"
      ],
      "metadata": {
        "colab": {
          "base_uri": "https://localhost:8080/"
        },
        "id": "xnyJcgfwNeKt",
        "outputId": "480ef4cb-3b32-4d7e-8821-bfc85b0b57b4"
      },
      "execution_count": null,
      "outputs": [
        {
          "output_type": "stream",
          "name": "stdout",
          "text": [
            "<class 'pandas.core.frame.DataFrame'>\n",
            "Int64Index: 1041 entries, 0 to 1040\n",
            "Data columns (total 14 columns):\n",
            " #   Column     Non-Null Count  Dtype \n",
            "---  ------     --------------  ----- \n",
            " 0   Item Code  1041 non-null   int64 \n",
            " 1   Fruit      1041 non-null   object\n",
            " 2   Area Code  1041 non-null   int64 \n",
            " 3   Area       1041 non-null   object\n",
            " 4   Y2016      1041 non-null   object\n",
            " 5   Y2016F     1041 non-null   object\n",
            " 6   Y2017      1041 non-null   object\n",
            " 7   Y2017F     1041 non-null   object\n",
            " 8   Y2018      1041 non-null   object\n",
            " 9   Y2018F     1041 non-null   object\n",
            " 10  Y2019      1041 non-null   object\n",
            " 11  Y2019F     1041 non-null   object\n",
            " 12  Y2020      1041 non-null   object\n",
            " 13  Y2020F     1041 non-null   object\n",
            "dtypes: int64(2), object(12)\n",
            "memory usage: 122.0+ KB\n"
          ]
        }
      ]
    },
    {
      "cell_type": "markdown",
      "source": [
        "I repeated the same steps as I did with first 2 files and used (head) and (info)."
      ],
      "metadata": {
        "id": "o8drV-WM-l5X"
      }
    },
    {
      "cell_type": "code",
      "source": [
        "df4 = df4.drop(df4.columns[[0, 1, 2, 3]],axis = 1)"
      ],
      "metadata": {
        "id": "wgh_tJe-To50"
      },
      "execution_count": null,
      "outputs": []
    },
    {
      "cell_type": "markdown",
      "source": [
        "I dropped the first 4 columns in df4, before merging it with df3, since the first 4 columns match."
      ],
      "metadata": {
        "id": "znH2YN0z-wZ3"
      }
    },
    {
      "cell_type": "code",
      "source": [
        "df3 = pd.concat([df3, df4], axis=1)"
      ],
      "metadata": {
        "id": "4xoZjU98zAAM"
      },
      "execution_count": null,
      "outputs": []
    },
    {
      "cell_type": "markdown",
      "source": [
        "I merged the df3 and df4 and stored them into the dataframe df3."
      ],
      "metadata": {
        "id": "HPKIvcxd--41"
      }
    },
    {
      "cell_type": "code",
      "source": [
        "df3.info()"
      ],
      "metadata": {
        "colab": {
          "base_uri": "https://localhost:8080/"
        },
        "id": "Nw29lokiqhC4",
        "outputId": "8e89bd89-a340-455d-eccc-81e5179efe81"
      },
      "execution_count": null,
      "outputs": [
        {
          "output_type": "stream",
          "name": "stdout",
          "text": [
            "<class 'pandas.core.frame.DataFrame'>\n",
            "Int64Index: 1042 entries, 0 to 1041\n",
            "Data columns (total 46 columns):\n",
            " #   Column     Non-Null Count  Dtype  \n",
            "---  ------     --------------  -----  \n",
            " 0   Area Code  1042 non-null   int64  \n",
            " 1   Area       1042 non-null   object \n",
            " 2   Item Code  1042 non-null   int64  \n",
            " 3   Item       1042 non-null   object \n",
            " 4   Y2000      605 non-null    object \n",
            " 5   Y2000F     265 non-null    object \n",
            " 6   Y2001      606 non-null    object \n",
            " 7   Y2001F     252 non-null    object \n",
            " 8   Y2002      612 non-null    object \n",
            " 9   Y2002F     260 non-null    object \n",
            " 10  Y2003      629 non-null    object \n",
            " 11  Y2003F     223 non-null    object \n",
            " 12  Y2004      638 non-null    object \n",
            " 13  Y2004F     228 non-null    object \n",
            " 14  Y2005      693 non-null    float64\n",
            " 15  Y2005F     214 non-null    object \n",
            " 16  Y2006      709 non-null    float64\n",
            " 17  Y2006F     225 non-null    object \n",
            " 18  Y2007      710 non-null    float64\n",
            " 19  Y2007F     224 non-null    object \n",
            " 20  Y2008      710 non-null    float64\n",
            " 21  Y2008F     225 non-null    object \n",
            " 22  Y2009      710 non-null    float64\n",
            " 23  Y2009F     218 non-null    object \n",
            " 24  Y2010      710 non-null    float64\n",
            " 25  Y2010F     206 non-null    object \n",
            " 26  Y2011      710 non-null    float64\n",
            " 27  Y2011F     209 non-null    object \n",
            " 28  Y2012      710 non-null    float64\n",
            " 29  Y2012F     204 non-null    object \n",
            " 30  Y2013      710 non-null    float64\n",
            " 31  Y2013F     205 non-null    object \n",
            " 32  Y2014      710 non-null    float64\n",
            " 33  Y2014F     204 non-null    object \n",
            " 34  Y2015      710 non-null    float64\n",
            " 35  Y2015F     205 non-null    object \n",
            " 36  Y2016      1041 non-null   object \n",
            " 37  Y2016F     1041 non-null   object \n",
            " 38  Y2017      1041 non-null   object \n",
            " 39  Y2017F     1041 non-null   object \n",
            " 40  Y2018      1041 non-null   object \n",
            " 41  Y2018F     1041 non-null   object \n",
            " 42  Y2019      1041 non-null   object \n",
            " 43  Y2019F     1041 non-null   object \n",
            " 44  Y2020      1041 non-null   object \n",
            " 45  Y2020F     1041 non-null   object \n",
            "dtypes: float64(11), int64(2), object(33)\n",
            "memory usage: 382.6+ KB\n"
          ]
        }
      ]
    },
    {
      "cell_type": "markdown",
      "source": [
        "I checked the datatypes of each column of the merged dataframe, to see if everything looked okay."
      ],
      "metadata": {
        "id": "3YYynSc__YtE"
      }
    },
    {
      "cell_type": "markdown",
      "source": [
        "# Converting merged dataframe into a csv file"
      ],
      "metadata": {
        "id": "FH29dGniyGie"
      }
    },
    {
      "cell_type": "code",
      "source": [
        "df3.to_csv('Merged dataset.csv')"
      ],
      "metadata": {
        "id": "xh9ZpqBm73f-"
      },
      "execution_count": null,
      "outputs": []
    },
    {
      "cell_type": "markdown",
      "source": [
        "I converted the merged dataframe df3 into a csv file and named it \n",
        "'Merged dataset.csv'."
      ],
      "metadata": {
        "id": "RxYTPStV_lG_"
      }
    },
    {
      "cell_type": "markdown",
      "source": [
        "The next step that I had taken was to check for any errors or artefacts using 'Google Sheets'."
      ],
      "metadata": {
        "id": "lSB30_cp_zD6"
      }
    },
    {
      "cell_type": "code",
      "source": [
        "df = pd.read_csv('Clean - Merged dataset.csv')"
      ],
      "metadata": {
        "id": "19WU6nKn2p9v"
      },
      "execution_count": null,
      "outputs": []
    },
    {
      "cell_type": "markdown",
      "source": [
        "After I cleaned the dataset with the help of 'Google Sheets', I converted dataset back into a csv file and read it using (read_csv) and stored into df."
      ],
      "metadata": {
        "id": "e5B_zZZZAcXa"
      }
    },
    {
      "cell_type": "code",
      "source": [
        "df.describe()"
      ],
      "metadata": {
        "colab": {
          "base_uri": "https://localhost:8080/",
          "height": 394
        },
        "id": "nvd_9Db13AEZ",
        "outputId": "9a82732f-c212-4a2e-818f-9f7f744354b3"
      },
      "execution_count": null,
      "outputs": [
        {
          "output_type": "execute_result",
          "data": {
            "text/plain": [
              "         Area Code    Item Code         Y2000         Y2001         Y2002  \\\n",
              "count  1042.000000  1042.000000  6.050000e+02  6.060000e+02  6.120000e+02   \n",
              "mean    138.523033   618.706334  3.283415e+05  3.121895e+05  3.025844e+05   \n",
              "std      70.381682   313.444776  1.416497e+06  1.357007e+06  1.308083e+06   \n",
              "min       3.000000   388.000000  0.000000e+00  0.000000e+00  0.000000e+00   \n",
              "25%      80.000000   521.000000  2.000000e+03  2.000000e+03  1.856000e+03   \n",
              "50%     134.000000   542.000000  1.254700e+04  1.219400e+04  1.092600e+04   \n",
              "75%     198.000000   567.000000  1.131000e+05  1.015048e+05  9.600250e+04   \n",
              "max     273.000000  1804.000000  1.906858e+07  1.904079e+07  1.776720e+07   \n",
              "\n",
              "              Y2003         Y2004         Y2005         Y2006         Y2007  \\\n",
              "count  6.290000e+02  6.380000e+02  6.410000e+02  6.570000e+02  6.630000e+02   \n",
              "mean   3.037485e+05  3.174617e+05  2.970792e+05  2.973951e+05  2.775203e+05   \n",
              "std    1.325707e+06  1.406096e+06  1.336983e+06  1.357730e+06  1.252977e+06   \n",
              "min    0.000000e+00  0.000000e+00  0.000000e+00  0.000000e+00  0.000000e+00   \n",
              "25%    1.423000e+03  1.485000e+03  1.305000e+03  1.345000e+03  1.126500e+03   \n",
              "50%    1.024400e+04  1.063050e+04  1.000000e+04  9.024000e+03  8.235000e+03   \n",
              "75%    9.527800e+04  8.350225e+04  8.433100e+04  8.051000e+04  7.210000e+04   \n",
              "max    1.972531e+07  1.922080e+07  1.934716e+07  1.926289e+07  1.836701e+07   \n",
              "\n",
              "       ...         Y2011         Y2012         Y2013         Y2014  \\\n",
              "count  ...  6.650000e+02  6.650000e+02  6.640000e+02  6.650000e+02   \n",
              "mean   ...  2.862487e+05  2.654158e+05  2.903721e+05  2.911044e+05   \n",
              "std    ...  1.273493e+06  1.159175e+06  1.302024e+06  1.288118e+06   \n",
              "min    ...  0.000000e+00  0.000000e+00  0.000000e+00  0.000000e+00   \n",
              "25%    ...  1.146000e+03  1.000000e+03  1.000000e+03  9.570000e+02   \n",
              "50%    ...  9.398000e+03  8.768000e+03  9.758500e+03  1.005800e+04   \n",
              "75%    ...  8.275600e+04  7.130000e+04  7.861925e+04  7.700000e+04   \n",
              "max    ...  1.849314e+07  1.641497e+07  1.960578e+07  1.934760e+07   \n",
              "\n",
              "              Y2015         Y2016         Y2017         Y2018         Y2019  \\\n",
              "count  6.660000e+02  6.650000e+02  6.650000e+02  9.290000e+02  9.320000e+02   \n",
              "mean   3.025929e+05  3.010003e+05  2.798264e+05  2.263912e+05  2.095261e+05   \n",
              "std    1.350608e+06  1.345127e+06  1.236358e+06  1.164060e+06  1.082448e+06   \n",
              "min    0.000000e+00  0.000000e+00  0.000000e+00  0.000000e+00  0.000000e+00   \n",
              "25%    1.056500e+03  1.013000e+03  1.019000e+03  0.000000e+00  0.000000e+00   \n",
              "50%    1.048950e+04  1.006300e+04  9.701000e+03  1.630000e+03  1.525000e+03   \n",
              "75%    9.045600e+04  8.500800e+04  8.051000e+04  3.850000e+04  3.527750e+04   \n",
              "max    1.971815e+07  1.946686e+07  1.848497e+07  2.000002e+07  1.831765e+07   \n",
              "\n",
              "              Y2020  \n",
              "count  9.270000e+02  \n",
              "mean   2.156588e+05  \n",
              "std    1.136039e+06  \n",
              "min    0.000000e+00  \n",
              "25%    0.000000e+00  \n",
              "50%    1.580000e+03  \n",
              "75%    3.688850e+04  \n",
              "max    1.947107e+07  \n",
              "\n",
              "[8 rows x 23 columns]"
            ],
            "text/html": [
              "\n",
              "  <div id=\"df-7fe3ffa1-701a-4767-8a0d-7c3630deb994\">\n",
              "    <div class=\"colab-df-container\">\n",
              "      <div>\n",
              "<style scoped>\n",
              "    .dataframe tbody tr th:only-of-type {\n",
              "        vertical-align: middle;\n",
              "    }\n",
              "\n",
              "    .dataframe tbody tr th {\n",
              "        vertical-align: top;\n",
              "    }\n",
              "\n",
              "    .dataframe thead th {\n",
              "        text-align: right;\n",
              "    }\n",
              "</style>\n",
              "<table border=\"1\" class=\"dataframe\">\n",
              "  <thead>\n",
              "    <tr style=\"text-align: right;\">\n",
              "      <th></th>\n",
              "      <th>Area Code</th>\n",
              "      <th>Item Code</th>\n",
              "      <th>Y2000</th>\n",
              "      <th>Y2001</th>\n",
              "      <th>Y2002</th>\n",
              "      <th>Y2003</th>\n",
              "      <th>Y2004</th>\n",
              "      <th>Y2005</th>\n",
              "      <th>Y2006</th>\n",
              "      <th>Y2007</th>\n",
              "      <th>...</th>\n",
              "      <th>Y2011</th>\n",
              "      <th>Y2012</th>\n",
              "      <th>Y2013</th>\n",
              "      <th>Y2014</th>\n",
              "      <th>Y2015</th>\n",
              "      <th>Y2016</th>\n",
              "      <th>Y2017</th>\n",
              "      <th>Y2018</th>\n",
              "      <th>Y2019</th>\n",
              "      <th>Y2020</th>\n",
              "    </tr>\n",
              "  </thead>\n",
              "  <tbody>\n",
              "    <tr>\n",
              "      <th>count</th>\n",
              "      <td>1042.000000</td>\n",
              "      <td>1042.000000</td>\n",
              "      <td>6.050000e+02</td>\n",
              "      <td>6.060000e+02</td>\n",
              "      <td>6.120000e+02</td>\n",
              "      <td>6.290000e+02</td>\n",
              "      <td>6.380000e+02</td>\n",
              "      <td>6.410000e+02</td>\n",
              "      <td>6.570000e+02</td>\n",
              "      <td>6.630000e+02</td>\n",
              "      <td>...</td>\n",
              "      <td>6.650000e+02</td>\n",
              "      <td>6.650000e+02</td>\n",
              "      <td>6.640000e+02</td>\n",
              "      <td>6.650000e+02</td>\n",
              "      <td>6.660000e+02</td>\n",
              "      <td>6.650000e+02</td>\n",
              "      <td>6.650000e+02</td>\n",
              "      <td>9.290000e+02</td>\n",
              "      <td>9.320000e+02</td>\n",
              "      <td>9.270000e+02</td>\n",
              "    </tr>\n",
              "    <tr>\n",
              "      <th>mean</th>\n",
              "      <td>138.523033</td>\n",
              "      <td>618.706334</td>\n",
              "      <td>3.283415e+05</td>\n",
              "      <td>3.121895e+05</td>\n",
              "      <td>3.025844e+05</td>\n",
              "      <td>3.037485e+05</td>\n",
              "      <td>3.174617e+05</td>\n",
              "      <td>2.970792e+05</td>\n",
              "      <td>2.973951e+05</td>\n",
              "      <td>2.775203e+05</td>\n",
              "      <td>...</td>\n",
              "      <td>2.862487e+05</td>\n",
              "      <td>2.654158e+05</td>\n",
              "      <td>2.903721e+05</td>\n",
              "      <td>2.911044e+05</td>\n",
              "      <td>3.025929e+05</td>\n",
              "      <td>3.010003e+05</td>\n",
              "      <td>2.798264e+05</td>\n",
              "      <td>2.263912e+05</td>\n",
              "      <td>2.095261e+05</td>\n",
              "      <td>2.156588e+05</td>\n",
              "    </tr>\n",
              "    <tr>\n",
              "      <th>std</th>\n",
              "      <td>70.381682</td>\n",
              "      <td>313.444776</td>\n",
              "      <td>1.416497e+06</td>\n",
              "      <td>1.357007e+06</td>\n",
              "      <td>1.308083e+06</td>\n",
              "      <td>1.325707e+06</td>\n",
              "      <td>1.406096e+06</td>\n",
              "      <td>1.336983e+06</td>\n",
              "      <td>1.357730e+06</td>\n",
              "      <td>1.252977e+06</td>\n",
              "      <td>...</td>\n",
              "      <td>1.273493e+06</td>\n",
              "      <td>1.159175e+06</td>\n",
              "      <td>1.302024e+06</td>\n",
              "      <td>1.288118e+06</td>\n",
              "      <td>1.350608e+06</td>\n",
              "      <td>1.345127e+06</td>\n",
              "      <td>1.236358e+06</td>\n",
              "      <td>1.164060e+06</td>\n",
              "      <td>1.082448e+06</td>\n",
              "      <td>1.136039e+06</td>\n",
              "    </tr>\n",
              "    <tr>\n",
              "      <th>min</th>\n",
              "      <td>3.000000</td>\n",
              "      <td>388.000000</td>\n",
              "      <td>0.000000e+00</td>\n",
              "      <td>0.000000e+00</td>\n",
              "      <td>0.000000e+00</td>\n",
              "      <td>0.000000e+00</td>\n",
              "      <td>0.000000e+00</td>\n",
              "      <td>0.000000e+00</td>\n",
              "      <td>0.000000e+00</td>\n",
              "      <td>0.000000e+00</td>\n",
              "      <td>...</td>\n",
              "      <td>0.000000e+00</td>\n",
              "      <td>0.000000e+00</td>\n",
              "      <td>0.000000e+00</td>\n",
              "      <td>0.000000e+00</td>\n",
              "      <td>0.000000e+00</td>\n",
              "      <td>0.000000e+00</td>\n",
              "      <td>0.000000e+00</td>\n",
              "      <td>0.000000e+00</td>\n",
              "      <td>0.000000e+00</td>\n",
              "      <td>0.000000e+00</td>\n",
              "    </tr>\n",
              "    <tr>\n",
              "      <th>25%</th>\n",
              "      <td>80.000000</td>\n",
              "      <td>521.000000</td>\n",
              "      <td>2.000000e+03</td>\n",
              "      <td>2.000000e+03</td>\n",
              "      <td>1.856000e+03</td>\n",
              "      <td>1.423000e+03</td>\n",
              "      <td>1.485000e+03</td>\n",
              "      <td>1.305000e+03</td>\n",
              "      <td>1.345000e+03</td>\n",
              "      <td>1.126500e+03</td>\n",
              "      <td>...</td>\n",
              "      <td>1.146000e+03</td>\n",
              "      <td>1.000000e+03</td>\n",
              "      <td>1.000000e+03</td>\n",
              "      <td>9.570000e+02</td>\n",
              "      <td>1.056500e+03</td>\n",
              "      <td>1.013000e+03</td>\n",
              "      <td>1.019000e+03</td>\n",
              "      <td>0.000000e+00</td>\n",
              "      <td>0.000000e+00</td>\n",
              "      <td>0.000000e+00</td>\n",
              "    </tr>\n",
              "    <tr>\n",
              "      <th>50%</th>\n",
              "      <td>134.000000</td>\n",
              "      <td>542.000000</td>\n",
              "      <td>1.254700e+04</td>\n",
              "      <td>1.219400e+04</td>\n",
              "      <td>1.092600e+04</td>\n",
              "      <td>1.024400e+04</td>\n",
              "      <td>1.063050e+04</td>\n",
              "      <td>1.000000e+04</td>\n",
              "      <td>9.024000e+03</td>\n",
              "      <td>8.235000e+03</td>\n",
              "      <td>...</td>\n",
              "      <td>9.398000e+03</td>\n",
              "      <td>8.768000e+03</td>\n",
              "      <td>9.758500e+03</td>\n",
              "      <td>1.005800e+04</td>\n",
              "      <td>1.048950e+04</td>\n",
              "      <td>1.006300e+04</td>\n",
              "      <td>9.701000e+03</td>\n",
              "      <td>1.630000e+03</td>\n",
              "      <td>1.525000e+03</td>\n",
              "      <td>1.580000e+03</td>\n",
              "    </tr>\n",
              "    <tr>\n",
              "      <th>75%</th>\n",
              "      <td>198.000000</td>\n",
              "      <td>567.000000</td>\n",
              "      <td>1.131000e+05</td>\n",
              "      <td>1.015048e+05</td>\n",
              "      <td>9.600250e+04</td>\n",
              "      <td>9.527800e+04</td>\n",
              "      <td>8.350225e+04</td>\n",
              "      <td>8.433100e+04</td>\n",
              "      <td>8.051000e+04</td>\n",
              "      <td>7.210000e+04</td>\n",
              "      <td>...</td>\n",
              "      <td>8.275600e+04</td>\n",
              "      <td>7.130000e+04</td>\n",
              "      <td>7.861925e+04</td>\n",
              "      <td>7.700000e+04</td>\n",
              "      <td>9.045600e+04</td>\n",
              "      <td>8.500800e+04</td>\n",
              "      <td>8.051000e+04</td>\n",
              "      <td>3.850000e+04</td>\n",
              "      <td>3.527750e+04</td>\n",
              "      <td>3.688850e+04</td>\n",
              "    </tr>\n",
              "    <tr>\n",
              "      <th>max</th>\n",
              "      <td>273.000000</td>\n",
              "      <td>1804.000000</td>\n",
              "      <td>1.906858e+07</td>\n",
              "      <td>1.904079e+07</td>\n",
              "      <td>1.776720e+07</td>\n",
              "      <td>1.972531e+07</td>\n",
              "      <td>1.922080e+07</td>\n",
              "      <td>1.934716e+07</td>\n",
              "      <td>1.926289e+07</td>\n",
              "      <td>1.836701e+07</td>\n",
              "      <td>...</td>\n",
              "      <td>1.849314e+07</td>\n",
              "      <td>1.641497e+07</td>\n",
              "      <td>1.960578e+07</td>\n",
              "      <td>1.934760e+07</td>\n",
              "      <td>1.971815e+07</td>\n",
              "      <td>1.946686e+07</td>\n",
              "      <td>1.848497e+07</td>\n",
              "      <td>2.000002e+07</td>\n",
              "      <td>1.831765e+07</td>\n",
              "      <td>1.947107e+07</td>\n",
              "    </tr>\n",
              "  </tbody>\n",
              "</table>\n",
              "<p>8 rows × 23 columns</p>\n",
              "</div>\n",
              "      <button class=\"colab-df-convert\" onclick=\"convertToInteractive('df-7fe3ffa1-701a-4767-8a0d-7c3630deb994')\"\n",
              "              title=\"Convert this dataframe to an interactive table.\"\n",
              "              style=\"display:none;\">\n",
              "        \n",
              "  <svg xmlns=\"http://www.w3.org/2000/svg\" height=\"24px\"viewBox=\"0 0 24 24\"\n",
              "       width=\"24px\">\n",
              "    <path d=\"M0 0h24v24H0V0z\" fill=\"none\"/>\n",
              "    <path d=\"M18.56 5.44l.94 2.06.94-2.06 2.06-.94-2.06-.94-.94-2.06-.94 2.06-2.06.94zm-11 1L8.5 8.5l.94-2.06 2.06-.94-2.06-.94L8.5 2.5l-.94 2.06-2.06.94zm10 10l.94 2.06.94-2.06 2.06-.94-2.06-.94-.94-2.06-.94 2.06-2.06.94z\"/><path d=\"M17.41 7.96l-1.37-1.37c-.4-.4-.92-.59-1.43-.59-.52 0-1.04.2-1.43.59L10.3 9.45l-7.72 7.72c-.78.78-.78 2.05 0 2.83L4 21.41c.39.39.9.59 1.41.59.51 0 1.02-.2 1.41-.59l7.78-7.78 2.81-2.81c.8-.78.8-2.07 0-2.86zM5.41 20L4 18.59l7.72-7.72 1.47 1.35L5.41 20z\"/>\n",
              "  </svg>\n",
              "      </button>\n",
              "      \n",
              "  <style>\n",
              "    .colab-df-container {\n",
              "      display:flex;\n",
              "      flex-wrap:wrap;\n",
              "      gap: 12px;\n",
              "    }\n",
              "\n",
              "    .colab-df-convert {\n",
              "      background-color: #E8F0FE;\n",
              "      border: none;\n",
              "      border-radius: 50%;\n",
              "      cursor: pointer;\n",
              "      display: none;\n",
              "      fill: #1967D2;\n",
              "      height: 32px;\n",
              "      padding: 0 0 0 0;\n",
              "      width: 32px;\n",
              "    }\n",
              "\n",
              "    .colab-df-convert:hover {\n",
              "      background-color: #E2EBFA;\n",
              "      box-shadow: 0px 1px 2px rgba(60, 64, 67, 0.3), 0px 1px 3px 1px rgba(60, 64, 67, 0.15);\n",
              "      fill: #174EA6;\n",
              "    }\n",
              "\n",
              "    [theme=dark] .colab-df-convert {\n",
              "      background-color: #3B4455;\n",
              "      fill: #D2E3FC;\n",
              "    }\n",
              "\n",
              "    [theme=dark] .colab-df-convert:hover {\n",
              "      background-color: #434B5C;\n",
              "      box-shadow: 0px 1px 3px 1px rgba(0, 0, 0, 0.15);\n",
              "      filter: drop-shadow(0px 1px 2px rgba(0, 0, 0, 0.3));\n",
              "      fill: #FFFFFF;\n",
              "    }\n",
              "  </style>\n",
              "\n",
              "      <script>\n",
              "        const buttonEl =\n",
              "          document.querySelector('#df-7fe3ffa1-701a-4767-8a0d-7c3630deb994 button.colab-df-convert');\n",
              "        buttonEl.style.display =\n",
              "          google.colab.kernel.accessAllowed ? 'block' : 'none';\n",
              "\n",
              "        async function convertToInteractive(key) {\n",
              "          const element = document.querySelector('#df-7fe3ffa1-701a-4767-8a0d-7c3630deb994');\n",
              "          const dataTable =\n",
              "            await google.colab.kernel.invokeFunction('convertToInteractive',\n",
              "                                                     [key], {});\n",
              "          if (!dataTable) return;\n",
              "\n",
              "          const docLinkHtml = 'Like what you see? Visit the ' +\n",
              "            '<a target=\"_blank\" href=https://colab.research.google.com/notebooks/data_table.ipynb>data table notebook</a>'\n",
              "            + ' to learn more about interactive tables.';\n",
              "          element.innerHTML = '';\n",
              "          dataTable['output_type'] = 'display_data';\n",
              "          await google.colab.output.renderOutput(dataTable, element);\n",
              "          const docLink = document.createElement('div');\n",
              "          docLink.innerHTML = docLinkHtml;\n",
              "          element.appendChild(docLink);\n",
              "        }\n",
              "      </script>\n",
              "    </div>\n",
              "  </div>\n",
              "  "
            ]
          },
          "metadata": {},
          "execution_count": 28
        }
      ]
    },
    {
      "cell_type": "code",
      "source": [
        "df.info()"
      ],
      "metadata": {
        "colab": {
          "base_uri": "https://localhost:8080/"
        },
        "id": "ba8t0CjinjbS",
        "outputId": "de0e1375-5e3b-4db0-ae23-66e89d274c2f"
      },
      "execution_count": null,
      "outputs": [
        {
          "output_type": "stream",
          "name": "stdout",
          "text": [
            "<class 'pandas.core.frame.DataFrame'>\n",
            "RangeIndex: 1042 entries, 0 to 1041\n",
            "Data columns (total 46 columns):\n",
            " #   Column     Non-Null Count  Dtype  \n",
            "---  ------     --------------  -----  \n",
            " 0   Area Code  1042 non-null   int64  \n",
            " 1   Area       1042 non-null   object \n",
            " 2   Item Code  1042 non-null   int64  \n",
            " 3   Item       1042 non-null   object \n",
            " 4   Y2000      605 non-null    float64\n",
            " 5   Y2000F     265 non-null    object \n",
            " 6   Y2001      606 non-null    float64\n",
            " 7   Y2001F     252 non-null    object \n",
            " 8   Y2002      612 non-null    float64\n",
            " 9   Y2002F     260 non-null    object \n",
            " 10  Y2003      629 non-null    float64\n",
            " 11  Y2003F     223 non-null    object \n",
            " 12  Y2004      638 non-null    float64\n",
            " 13  Y2004F     228 non-null    object \n",
            " 14  Y2005      641 non-null    float64\n",
            " 15  Y2005F     214 non-null    object \n",
            " 16  Y2006      657 non-null    float64\n",
            " 17  Y2006F     225 non-null    object \n",
            " 18  Y2007      663 non-null    float64\n",
            " 19  Y2007F     224 non-null    object \n",
            " 20  Y2008      664 non-null    float64\n",
            " 21  Y2008F     225 non-null    object \n",
            " 22  Y2009      664 non-null    float64\n",
            " 23  Y2009F     218 non-null    object \n",
            " 24  Y2010      665 non-null    float64\n",
            " 25  Y2010F     206 non-null    object \n",
            " 26  Y2011      665 non-null    float64\n",
            " 27  Y2011F     209 non-null    object \n",
            " 28  Y2012      665 non-null    float64\n",
            " 29  Y2012F     204 non-null    object \n",
            " 30  Y2013      664 non-null    float64\n",
            " 31  Y2013F     205 non-null    object \n",
            " 32  Y2014      665 non-null    float64\n",
            " 33  Y2014F     204 non-null    object \n",
            " 34  Y2015      666 non-null    float64\n",
            " 35  Y2015F     205 non-null    object \n",
            " 36  Y2016      665 non-null    float64\n",
            " 37  Y2016F     203 non-null    object \n",
            " 38  Y2017      665 non-null    float64\n",
            " 39  Y2017F     205 non-null    object \n",
            " 40  Y2018      929 non-null    float64\n",
            " 41  Y2018F     124 non-null    object \n",
            " 42  Y2019      932 non-null    float64\n",
            " 43  Y2019F     126 non-null    object \n",
            " 44  Y2020      927 non-null    float64\n",
            " 45  Y2020F     133 non-null    object \n",
            "dtypes: float64(21), int64(2), object(23)\n",
            "memory usage: 374.6+ KB\n"
          ]
        }
      ]
    },
    {
      "cell_type": "markdown",
      "source": [
        "I checked the number of non-nulls values of each column of the dataframe to see if the structure of dataframe has matched requested data structure (given in data/raw/structure.md)."
      ],
      "metadata": {
        "id": "sUXXccPABB1F"
      }
    },
    {
      "cell_type": "markdown",
      "source": [
        "# Answer to question: \"Which country has the highest total yield for apples across all years?\""
      ],
      "metadata": {
        "id": "j1q6mLm_xWp0"
      }
    },
    {
      "cell_type": "markdown",
      "source": [
        "\"Which country has the highest total yield for apples across all years?\"\n",
        "\n",
        "Answer: The country that has the highest yield for apples across all years is Poland.\n",
        "\n",
        "(The file 'country-with-highest-apple-yield.md' in the notebooks folder, shows how I got this answer)."
      ],
      "metadata": {
        "id": "jc08m89KB2uA"
      }
    }
  ],
  "metadata": {
    "colab": {
      "provenance": [],
      "collapsed_sections": [],
      "authorship_tag": "ABX9TyPFYlKN3FZvGcrMvlyB4O13",
      "include_colab_link": true
    },
    "kernelspec": {
      "display_name": "Python 3",
      "name": "python3"
    },
    "language_info": {
      "name": "python"
    }
  },
  "nbformat": 4,
  "nbformat_minor": 0
}